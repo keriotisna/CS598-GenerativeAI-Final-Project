{
 "cells": [
  {
   "cell_type": "code",
   "execution_count": 4,
   "metadata": {},
   "outputs": [
    {
     "name": "stdout",
     "output_type": "stream",
     "text": [
      "The autoreload extension is already loaded. To reload it, use:\n",
      "  %reload_ext autoreload\n"
     ]
    }
   ],
   "source": [
    "%load_ext autoreload\n",
    "%autoreload 2"
   ]
  },
  {
   "cell_type": "code",
   "execution_count": 5,
   "metadata": {},
   "outputs": [],
   "source": [
    "import torch\n",
    "\n",
    "import torchvision\n",
    "from torchvision.utils import make_grid\n",
    "from DDPM import *\n",
    "from UNet import *"
   ]
  },
  {
   "cell_type": "code",
   "execution_count": 6,
   "metadata": {},
   "outputs": [
    {
     "name": "stdout",
     "output_type": "stream",
     "text": [
      "torch.Size([256, 1, 28, 28])\n"
     ]
    }
   ],
   "source": [
    "device = 'cuda:0' if torch.cuda.is_available() else 'cpu'\n",
    "\n",
    "modelPath = 'DiffusionData\\w\\model-w_799.pth'\n",
    "\n",
    "ddpm = DDPM(model=UNet(numClasses=8), betas=(1e-4, 0.02), numTimesteps=400, dropoutRate=0.4, device=device, numClasses=8)\n",
    "\n",
    "# Load individual models if we need to\n",
    "ddpm.load_state_dict(torch.load(modelPath))\n",
    "ddpm = ddpm.to(device)\n",
    "\n",
    "rows = 16\n",
    "\n",
    "ddpm.eval()\n",
    "with torch.no_grad():\n",
    "    generatedSamples, storedSamples = ddpm.sample(rows**2, (1, 28, 28), classifierGuidance=2, classLabels=torch.Tensor([1]).to(torch.int64).to(device))\n",
    "\n",
    "print(generatedSamples.shape)\n",
    "\n",
    "generatedSamples[generatedSamples < 0.25] = 0\n",
    "\n",
    "grid = make_grid(generatedSamples, nrow=rows, normalize=True)\n",
    "img = torchvision.transforms.ToPILImage()(grid)\n",
    "img.show()"
   ]
  }
 ],
 "metadata": {
  "kernelspec": {
   "display_name": "CS598GenAIEnv",
   "language": "python",
   "name": "python3"
  },
  "language_info": {
   "codemirror_mode": {
    "name": "ipython",
    "version": 3
   },
   "file_extension": ".py",
   "mimetype": "text/x-python",
   "name": "python",
   "nbconvert_exporter": "python",
   "pygments_lexer": "ipython3",
   "version": "3.10.13"
  }
 },
 "nbformat": 4,
 "nbformat_minor": 2
}
