{
 "cells": [
  {
   "cell_type": "code",
   "execution_count": 9,
   "metadata": {},
   "outputs": [
    {
     "name": "stdout",
     "output_type": "stream",
     "text": [
      "The autoreload extension is already loaded. To reload it, use:\n",
      "  %reload_ext autoreload\n"
     ]
    }
   ],
   "source": [
    "%load_ext autoreload\n",
    "%autoreload 2"
   ]
  },
  {
   "cell_type": "code",
   "execution_count": 10,
   "metadata": {},
   "outputs": [],
   "source": [
    "import torch\n",
    "import matplotlib.pyplot as plt\n",
    "import numpy as np\n",
    "import os\n",
    "import torchvision\n",
    "from torchvision.utils import make_grid\n",
    "from torchvision import transforms\n",
    "\n",
    "from datasets import *\n",
    "from styleExtraction import *"
   ]
  },
  {
   "cell_type": "code",
   "execution_count": 11,
   "metadata": {},
   "outputs": [
    {
     "name": "stdout",
     "output_type": "stream",
     "text": [
      "NpzFile 'Data\\\\FONTS\\\\character_font.npz' with keys: images, labels\n"
     ]
    },
    {
     "data": {
      "image/png": "[encoded data removed]",
      "text/plain": [
       "<Figure size 640x480 with 1 Axes>"
      ]
     },
     "metadata": {},
     "output_type": "display_data"
    },
    {
     "name": "stdout",
     "output_type": "stream",
     "text": [
      "torch.Size([500, 1, 28, 28])\n"
     ]
    }
   ],
   "source": [
    "\n",
    "dataPath = os.path.normpath(r'Data\\FONTS\\character_font.npz')\n",
    "\n",
    "loadedData = np.load(dataPath)\n",
    "\n",
    "print(loadedData)\n",
    "\n",
    "images = loadedData['images']\n",
    "labels = loadedData['labels']\n",
    "\n",
    "\n",
    "fontNum = 0\n",
    "\n",
    "baseSample = images[fontNum*26]\n",
    "sample_tensor = torch.from_numpy(baseSample).unsqueeze(0).to(torch.float32)\n",
    "\n",
    "plt.imshow(baseSample), plt.title(0), plt.show()\n",
    "\n",
    "# TODO: Try more transforms\n",
    "randomRotation = transforms.RandomApply([transforms.RandomRotation((-15, 15))])\n",
    "randomBlur = transforms.RandomApply([transforms.GaussianBlur(kernel_size=5, sigma=(0.3, 0.6))], p=0.25)\n",
    "\n",
    "transform = transforms.Compose([\n",
    "    randomRotation,\n",
    "    randomBlur,\n",
    "    transforms.RandomAffine(degrees=(0, 0), translate=(0.05, 0.1), scale=(0.9, 1.1), shear=(0, 1)),\n",
    "    transforms.Resize((28, 28)),\n",
    "])\n",
    "\n",
    "\n",
    "newSamples = []\n",
    "\n",
    "for _ in range(500):\n",
    "    transformed = transform(sample_tensor)\n",
    "    newSamples.append(transformed)\n",
    "    \n",
    "stackedSamples = torch.stack(newSamples, dim=0)\n",
    "\n",
    "print(stackedSamples.shape)\n",
    "\n",
    "grid = make_grid(stackedSamples, normalize=True, nrow=int(np.sqrt(stackedSamples.shape[0])))\n",
    "img = torchvision.transforms.ToPILImage()(grid)\n",
    "img.show()\n"
   ]
  },
  {
   "cell_type": "code",
   "execution_count": 12,
   "metadata": {},
   "outputs": [
    {
     "name": "stdout",
     "output_type": "stream",
     "text": [
      "Letter a cluster counts:\n",
      "[347, 674, 584, 562, 784, 544, 321, 380]\n",
      "[3 3 3 3 7 3 3 3 3 3 3 7 3 3 3 3 3 3 3 4 4 3 3 3 3 3 3 3 3 3 3 3 4 3 3 3 3\n",
      " 3 3 3 3 3 3 3 3 3 4 3 3 3 3 7 3 3 3 3 3 3 3 3 3 3 3 3 3 3 3 3 3 7 3 3 3 3\n",
      " 3 4 3 7 3 3 7 3 3 3 3 3 3 3 3 3 3 3 7 7 3 3 3 3 3 3 3 3 4 3 3 3 3 3 3 3 3\n",
      " 3 3 2 3 3 3 3 7 3 3 3 3 3 3 3 7 3 4 3 3 3 3 3 3 3 3 3 3 3 4 3 3 3 3 3 3 7\n",
      " 3 7 3 3 7 3 3 3 7 3 3 3 3 3 3 3 7 3 3 3 3 7 3 3 3 3 3 3 3 4 3 7 3 3 7 3 3\n",
      " 3 3 3 3 3 4 3 3 3 7 3 3 3 3 3 3 3 3 3 4 3 3 3 3 3 3 3 7 3 3 3 3 7 3 3 3 3\n",
      " 3 7 3 3 3 3 3 3 3 7 7 3 3 3 3 3 3 3 3 3 3 3 3 3 4 3 3 4 3 3 7 3 3 3 3 3 3\n",
      " 3 3 3 3 3 3 3 3 3 4 3 7 3 3 3 3 3 7 4 4 3 4 3 3 3 3 3 4 3 3 3 3 4 3 3 3 3\n",
      " 7 4 7 3 3 3 3 7 3 3 7 3 3 7 3 3 3 3 3 3 3 7 3 3 3 3 7 3 3 3 3 3 3 3 3 3 3\n",
      " 3 3 3 3 3 3 3 4 3 3 3 3 7 3 3 7 3 7 7 3 7 3 3 3 3 3 3 3 3 3 3 7 3 3 4 3 3\n",
      " 3 3 3 3 3 3 3 3 4 3 7 3 3 3 3 3 3 3 3 3 7 3 3 3 3 7 3 3 3 3 3 3 3 3 3 3 3\n",
      " 3 3 7 3 3 3 3 3 7 3 3 3 3 3 3 3 3 3 7 3 7 3 3 3 3 3 7 7 3 3 3 3 3 3 3 7 3\n",
      " 4 3 3 3 3 3 3 3 3 7 7 3 3 3 3 3 3 3 3 3 3 3 3 7 3 3 3 7 3 3 3 3 3 3 3 3 3\n",
      " 3 3 3 7 3 3 3 3 7 3 3 3 3 3 3 3 4 7 3]\n",
      "[  1 417  25  57]\n",
      "[2 3 4 7]\n",
      "Most common cluster: 3\n"
     ]
    }
   ],
   "source": [
    "\n",
    "numClusters = 8\n",
    "\n",
    "# Get a combined train and test set since validation is for losers\n",
    "trainset = getFullDataset()\n",
    "\n",
    "\n",
    "flattenedData = torch.flatten(stackedSamples, start_dim=1).numpy()\n",
    "\n",
    "\n",
    "LETTER_ID = 1\n",
    "\n",
    "# Get formatted information about what data indices belong to what cluster\n",
    "CLUSTER_DATA, CLUSTERINGS, REDUCTIONS = getClusterDataForLetters(trainset=trainset, numClusters=numClusters, showPlots=False, targetClasses=[1], getMappingInfo=True)\n",
    "\n",
    "\n",
    "clustering = CLUSTERINGS[LETTER_ID]\n",
    "reduction = REDUCTIONS[LETTER_ID]\n",
    "\n",
    "\n",
    "reduced = reduction.transform(flattenedData)\n",
    "clusterLabels = clustering.predict(reduced)\n",
    "\n",
    "print(clusterLabels)\n",
    "\n",
    "indices, clusterCounts = np.unique(clusterLabels, return_counts=True)\n",
    "print(clusterCounts)\n",
    "print(indices)\n",
    "\n",
    "mostCommonCluster = indices[np.argmax(clusterCounts)]\n",
    "print(f'Most common cluster: {mostCommonCluster}')\n"
   ]
  },
  {
   "cell_type": "code",
   "execution_count": 13,
   "metadata": {},
   "outputs": [],
   "source": [
    "# Create individual data subsets for each cluster\n",
    "subsets = createSubsets(trainset, CLUSTER_DATA)\n",
    "\n",
    "currentSubset = subsets[1]\n",
    "currentSubset: ClusterDataset\n",
    "\n",
    "currentSubset.visualizeClusterDataset()\n"
   ]
  },
  {
   "cell_type": "code",
   "execution_count": 14,
   "metadata": {},
   "outputs": [],
   "source": [
    "# Add our \"handwriting\" samples to the best cluster and revisualize\n",
    "currentSubset.addSamplesToData(newFeatures=stackedSamples, newLabels=torch.full((stackedSamples.shape[0],), fill_value=mostCommonCluster))\n",
    "\n",
    "currentSubset.visualizeClusterDataset()\n"
   ]
  }
 ],
 "metadata": {
  "kernelspec": {
   "display_name": "CS598GenAIEnv",
   "language": "python",
   "name": "python3"
  },
  "language_info": {
   "codemirror_mode": {
    "name": "ipython",
    "version": 3
   },
   "file_extension": ".py",
   "mimetype": "text/x-python",
   "name": "python",
   "nbconvert_exporter": "python",
   "pygments_lexer": "ipython3",
   "version": "3.10.13"
  }
 },
 "nbformat": 4,
 "nbformat_minor": 2
}
